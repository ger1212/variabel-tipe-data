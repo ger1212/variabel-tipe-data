{
 "cells": [
  {
   "cell_type": "markdown",
   "id": "5894a653",
   "metadata": {},
   "source": [
    "<h1>variabel dan type data python</h1><hr>\n",
    "<font color=\"blue\">beberapa</font> aturan pembuatan variabel di <b>python</b>\n",
    "\n",
    "<ol>\n",
    "    <li>bersifat case sensitif => A != a</li>\n",
    "    <li>harus diawali dengan huruf atau karakter _(underscore)</li>\n",
    "    <li>tidak boleh menggunakan spasi</li>\n",
    "    <li>boleh menggunakan angka</li>\n",
    "</ol>"
   ]
  },
  {
   "cell_type": "code",
   "execution_count": 7,
   "id": "62c89ab9",
   "metadata": {},
   "outputs": [
    {
     "name": "stdout",
     "output_type": "stream",
     "text": [
      "10\n",
      "100.9\n",
      "1\n",
      "True\n",
      "1 10\n"
     ]
    }
   ],
   "source": [
    "data_int = 10\n",
    "data_float = 100.9\n",
    "data_string ='1'\n",
    "data_bool = True\n",
    "\n",
    "print(data_int)\n",
    "print(data_float)\n",
    "print(data_string)\n",
    "print(data_bool)\n",
    "print(data_string, data_int)"
   ]
  },
  {
   "cell_type": "markdown",
   "id": "1d86ff35",
   "metadata": {},
   "source": [
    "untuk mengetahui tipe data dari sebuah variabel gunakan command <b>type</b>"
   ]
  },
  {
   "cell_type": "markdown",
   "id": "f8e175e1",
   "metadata": {},
   "source": [
    "print(type(data_int))\n",
    "print(type(data_float))\n",
    "print(type(data_string))\n",
    "print(type(data_bool))"
   ]
  },
  {
   "cell_type": "markdown",
   "id": "d9ede6e4",
   "metadata": {},
   "source": [
    "pada python terdapat proses <b>CASTING</b> yaitu konversi dari sebuah tipe data ke tipe data yang lain, yaitu dengan syntax<b>tipe data_(nama_variabel)</b>"
   ]
  },
  {
   "cell_type": "code",
   "execution_count": 14,
   "id": "99ad2a5c",
   "metadata": {},
   "outputs": [
    {
     "name": "stdout",
     "output_type": "stream",
     "text": [
      "Nilai variabel data_int= 10\n",
      "10.0\n",
      "10\n",
      "True\n"
     ]
    }
   ],
   "source": [
    "int_to_float= float(data_int)\n",
    "int_to_string= str(data_int)\n",
    "int_to_bool= bool(data_int)\n",
    "print(\"Nilai variabel data_int=\" ,data_int)\n",
    "print(int_to_float)\n",
    "print(int_to_string)\n",
    "print(int_to_bool)"
   ]
  },
  {
   "cell_type": "code",
   "execution_count": 16,
   "id": "75385167",
   "metadata": {},
   "outputs": [
    {
     "name": "stdout",
     "output_type": "stream",
     "text": [
      "Nilai variabel data_int= 10\n",
      "100\n",
      "100.9\n",
      "True\n"
     ]
    }
   ],
   "source": [
    "float_to_int =int(data_float)\n",
    "float_to_string = str(data_float)\n",
    "float_to_bool = bool(data_float)\n",
    "print(\"Nilai variabel data_int=\" ,data_int)\n",
    "print(float_to_int)\n",
    "print(float_to_string)\n",
    "print(float_to_bool)"
   ]
  },
  {
   "cell_type": "code",
   "execution_count": 22,
   "id": "e358ba9a",
   "metadata": {},
   "outputs": [
    {
     "name": "stdout",
     "output_type": "stream",
     "text": [
      "Nilai vaeriabel data_int 1\n",
      "1\n",
      "1.0\n",
      "True\n"
     ]
    }
   ],
   "source": [
    "string_to_int =int(data_string)\n",
    "string_to_float=float(data_string)\n",
    "string_to_bool=bool(data_string)\n",
    "print(\"Nilai vaeriabel data_int\" ,data_string)\n",
    "print(string_to_int)\n",
    "print(string_to_float)\n",
    "print(string_to_bool)"
   ]
  },
  {
   "cell_type": "code",
   "execution_count": 27,
   "id": "21393352",
   "metadata": {},
   "outputs": [
    {
     "name": "stdout",
     "output_type": "stream",
     "text": [
      "isikan bilangan 1:29\n",
      "isikan bilangan 2:28\n",
      "hasil penjumlahan 57\n",
      "hasil pembagian 1.0357142857142858\n"
     ]
    }
   ],
   "source": [
    "bil1 = int(input(\"isikan bilangan 1:\"))\n",
    "bil2 = int(input(\"isikan bilangan 2:\"))\n",
    "hasil_tambah = bil1 + bil2\n",
    "hasil_bagi = bil1 / bil2\n",
    "print(\"hasil penjumlahan\" ,hasil_tambah)\n",
    "print(\"hasil pembagian\" ,hasil_bagi)"
   ]
  },
  {
   "cell_type": "code",
   "execution_count": 29,
   "id": "01c0de4f",
   "metadata": {},
   "outputs": [
    {
     "ename": "SyntaxError",
     "evalue": "invalid syntax (829077761.py, line 10)",
     "output_type": "error",
     "traceback": [
      "\u001b[1;36m  Input \u001b[1;32mIn [29]\u001b[1;36m\u001b[0m\n\u001b[1;33m    print (\"hasil perkalian =\" ,hasil kali)\u001b[0m\n\u001b[1;37m                                      ^\u001b[0m\n\u001b[1;31mSyntaxError\u001b[0m\u001b[1;31m:\u001b[0m invalid syntax\n"
     ]
    }
   ],
   "source": [
    "bil1 = int(input(\"isikan bilangan 1\"))\n",
    "bil2 = int(input(\"isikan bilangan 2\"))\n",
    "hasil_tambah = bil1 + bil2\n",
    "hasil_kurang = bil1 - bil2\n",
    "hasil_kali = bil1 * bil2\n",
    "hasil_bagi = bil1 / bil2\n",
    "\n",
    "print (\"hasil penjumlahan =\" ,hasil_tambah)\n",
    "print (\"hasil penngurangan =\" ,hasil_kurang)\n",
    "print (\"hasil perkalian =\" ,hasil kali)\n",
    "print (\"hasil pembagian =\" ,hasil bagi)"
   ]
  }
 ],
 "metadata": {
  "kernelspec": {
   "display_name": "Python 3 (ipykernel)",
   "language": "python",
   "name": "python3"
  },
  "language_info": {
   "codemirror_mode": {
    "name": "ipython",
    "version": 3
   },
   "file_extension": ".py",
   "mimetype": "text/x-python",
   "name": "python",
   "nbconvert_exporter": "python",
   "pygments_lexer": "ipython3",
   "version": "3.9.12"
  }
 },
 "nbformat": 4,
 "nbformat_minor": 5
}
